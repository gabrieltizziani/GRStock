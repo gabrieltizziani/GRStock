{
 "cells": [
  {
   "cell_type": "code",
   "execution_count": 2,
   "metadata": {},
   "outputs": [
    {
     "name": "stdout",
     "output_type": "stream",
     "text": [
      "120 minutos é igual a 2.0 horas e 0 minutos.\n"
     ]
    }
   ],
   "source": [
    "m = int(input(\"Digite a quantidade de minutos: \"))\n",
    "h = m / 60\n",
    "rm = m % 60\n",
    "print(f\"{m} minutos é igual a {h} horas e {rm} minutos.\")"
   ]
  },
  {
   "cell_type": "code",
   "execution_count": 2,
   "metadata": {},
   "outputs": [
    {
     "name": "stdout",
     "output_type": "stream",
     "text": [
      "1001 dias vividos equivalem a 2 anos, 9 meses e 1 dias.\n"
     ]
    }
   ],
   "source": [
    "dv = int(input(\"Digite a quantidade de dias vividos: \"))\n",
    "a = dv / 365\n",
    "dr = dv % 365\n",
    "m = dr / 30\n",
    "d = dr % 30\n",
    "print(\"{} dias vividos equivalem a {} anos, {} meses e {} dias.\".format(dv, int(a), int(m), int(d)))"
   ]
  }
 ],
 "metadata": {
  "interpreter": {
   "hash": "da7cf4b4a3e670f816928272a13237804646a626ab8664549c45f8a9c908f371"
  },
  "kernelspec": {
   "display_name": "Python 2.7.16 64-bit (system)",
   "language": "python",
   "name": "python3"
  },
  "language_info": {
   "codemirror_mode": {
    "name": "ipython",
    "version": 3
   },
   "file_extension": ".py",
   "mimetype": "text/x-python",
   "name": "python",
   "nbconvert_exporter": "python",
   "pygments_lexer": "ipython3",
   "version": "3.9.7"
  },
  "orig_nbformat": 4
 },
 "nbformat": 4,
 "nbformat_minor": 2
}
